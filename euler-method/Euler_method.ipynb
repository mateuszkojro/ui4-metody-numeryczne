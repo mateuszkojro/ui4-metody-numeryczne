{
 "cells": [
  {
   "cell_type": "markdown",
   "id": "49702e0d",
   "metadata": {},
   "source": [
    "# Mateusz Kojro - Metody numeryczne\n",
    "\n",
    "## Zadanie 14\n",
    "Dane jest równanie różniczkowe: $\\frac{dy}{dx} = -\\sin{x}\\sqrt{y}$  Rozwiązać  równanie  *ulepszoną  metodą  Eulera* z warunkiem poczatkowym $y(\\pi)=0$ dla przedzialu $x \\in < \\pi, \\frac{3\\pi}{2} >$ z krokiem $h = \\frac{\\pi}{20}$. Przedstawic rozwiazanie graficznie."
   ]
  },
  {
   "cell_type": "markdown",
   "id": "0612d70e",
   "metadata": {},
   "source": [
    "## Implementacja ulepszonej metody Eulera\n",
    "Zaimplementujemy funkcje euler ktorej zadaniem bedzie wykonanie tzw. __*Poprawionej metody Eulera*__ inaczej czasami zwana __*metoda Heuna*__. Ktora najczescie przedstawiamy w postaci:\n",
    "\n",
    "$y_{n+1} = y_n + \\frac{h}{2} [f(x_n, y_n) + f(x_n + h, y_n + h f(x_n, y_n))]$\n",
    "\n",
    "dla $n = 0,1,...,N$\n",
    "\n",
    "W celu latwiejszego protypowania i wykonania analizy funkcja zostanie napiasna zarowno w jezyku `Python` jak i `C++`.\n",
    "\n",
    "```c++\n",
    "std::vector<double> \n",
    "euler(double (*f)(double, double), double start,\n",
    "                                 double stop, double h, double y_0) {\n",
    "    std::vector<double> results;\n",
    "\n",
    "    // Ustawiamy poczatkowy numer iteracji na 0\n",
    "    int n = 0;\n",
    "    \n",
    "    // Poczatkowa wartosc y_n to po prostu wartosc stala podana\n",
    "    double y_n = y_0;\n",
    "\n",
    "    // Przechodzimy po calym zadanym zakresie z podanym krokiem\n",
    "    for (double x = start; x <= stop; x += h) {\n",
    "        \n",
    "        // Liczymy zmmiane y w punkcie x_n, y_n\n",
    "        double f_n = f(x, y_n);\n",
    "        \n",
    "        // Liczymy zmmiane w kolejenym punkcie\n",
    "        double f_m = f(x + h, y_n + h * f_n);\n",
    "  \n",
    "        // Wartosc y(x_n) jest rowna w przyblizeniu\n",
    "        // poczatkowej wartosci nad ktora nadbudujemy kolejne \n",
    "        // zmiany dy/dx otrzymujac wartosci y_n. Ulepszenie nad \n",
    "        // Metoda Eulera polaga na dodawaniu sredniej pomiedzy kolejnymi punktami\n",
    "        y_n = y_n + (h / 2.0) * (f_n + f_m);\n",
    "  \n",
    "        results.push_back(y_n);\n",
    "  \n",
    "        n++;\n",
    "    }\n",
    "    \n",
    "    // Zwracamy otrzymane wartosci y_n dla podanych x_n\n",
    "    return results;\n",
    "}\n",
    "```\n",
    "pamietajac o zalaczeniu pliku naglowkowego za pomoca komendy:\n",
    "```C++\n",
    "#include <vector>\n",
    "```"
   ]
  },
  {
   "cell_type": "code",
   "execution_count": 1,
   "id": "7a6bc607",
   "metadata": {},
   "outputs": [],
   "source": [
    "# Importowanie odpowiednich bibliotek\n",
    "import matplotlib.pyplot as plt\n",
    "import numpy as np"
   ]
  },
  {
   "cell_type": "code",
   "execution_count": 2,
   "id": "3142361d",
   "metadata": {},
   "outputs": [],
   "source": [
    "def euler(f, start, stop, h, y_0):\n",
    "    result = []\n",
    "    domain = np.arange(start, stop, h)\n",
    "    y_n = y_0\n",
    "    for n, x in enumerate(domain):\n",
    "        f_n = f(x,y_n)\n",
    "        f_m = f(x + h, y_n + h * f(x, y_n))\n",
    "        y_n = y_n + (h/2.0) * (f_n + f_m)\n",
    "        result.append(y_n)\n",
    "    return result"
   ]
  },
  {
   "cell_type": "markdown",
   "id": "5df2f8c8",
   "metadata": {},
   "source": [
    "## Rozwiazanie zadania 14\n",
    "### Podejscie standardowne\n",
    "Implementujemy badana w zadaniu 14 funkcje $f(x, y) = \\frac{dy}{dx}=-\\sin{x}\\sqrt{y}$"
   ]
  },
  {
   "cell_type": "code",
   "execution_count": 3,
   "id": "d5fe3661",
   "metadata": {},
   "outputs": [],
   "source": [
    "def f(x, y):\n",
    "    return -np.sin(x) * np.sqrt(y)"
   ]
  },
  {
   "cell_type": "markdown",
   "id": "f90b61d4",
   "metadata": {},
   "source": [
    "W `C++` wygladac ona bedzie w nastepujacy sposob:\n",
    "\n",
    "```c++\n",
    "double f(double x, double y) { return -sin(x) * sqrt(y); }\n",
    "```\n",
    "nalezy przy tym pamietac o zalaczeniu plikow naglowkowych zawierajacych definicje funkcji `sin` i `sqrt` poprzez umieszczenie\n",
    "```c++\n",
    "#include <cmath>\n",
    "```\n",
    "na poczatku pliku"
   ]
  },
  {
   "cell_type": "markdown",
   "id": "f75cb3cf",
   "metadata": {},
   "source": [
    "Moezemy nastepnie podstawic podane w zadaniu wartosci do odpowiednich argumentow funkcji `euler`"
   ]
  },
  {
   "cell_type": "code",
   "execution_count": 4,
   "id": "0be4e12e",
   "metadata": {},
   "outputs": [],
   "source": [
    "start = np.pi\n",
    "stop = (3.0 * np.pi)/2.0\n",
    "step = np.pi/20.0\n",
    "y_0 = 0.0\n",
    "result = euler(f, start, stop, step, y_0)"
   ]
  },
  {
   "cell_type": "markdown",
   "id": "35f72eaa",
   "metadata": {},
   "source": [
    "Co mozemy nastepnie przedstawic na wykresie:"
   ]
  },
  {
   "cell_type": "code",
   "execution_count": 5,
   "id": "48798d8f",
   "metadata": {
    "scrolled": true
   },
   "outputs": [
    {
     "data": {
      "text/plain": [
       "<matplotlib.legend.Legend at 0x7f3d1d2b6e80>"
      ]
     },
     "execution_count": 5,
     "metadata": {},
     "output_type": "execute_result"
    },
    {
     "data": {
      "image/png": "[encoded data removed]",
      "text/plain": [
       "<Figure size 432x288 with 1 Axes>"
      ]
     },
     "metadata": {
      "needs_background": "light"
     },
     "output_type": "display_data"
    }
   ],
   "source": [
    "plt.scatter(np.arange(start,stop,step),result)\n",
    "plt.title('Wykres $y(x)$ przy $y_0=0$')\n",
    "plt.legend(['$y(x)$'])"
   ]
  },
  {
   "cell_type": "markdown",
   "id": "0523dafa",
   "metadata": {},
   "source": [
    "Otrzymujemy dla wszystkich iteracji funkcji `euler` wartość $0$ moglismy sie jednak tego spodziewac ponieważ:\n",
    "\n",
    "$y(\\pi)=0$ i $f(x, y=0) = 0$  $\\forall_{x\\in \\!R}$ \n",
    "\n",
    "w zwiazku z tym w wszytskich kolejnycch iteracjach rowniez otrzymamy $0$.\n",
    "\n",
    "Aby upewnic sie co do otrzymanych wynikow wpisujemy odpowiednie zapytanie w usluge __*Wolfram Alpha*__"
   ]
  },
  {
   "cell_type": "markdown",
   "id": "cba023a3",
   "metadata": {},
   "source": [
    "![wolfram.png](wolfram.png)"
   ]
  },
  {
   "cell_type": "markdown",
   "id": "7882ba20",
   "metadata": {},
   "source": [
    "Odpowiadajacy powyzszemu zapytaniu kod __*Mathematica*__:\n",
    "```Mathematica\n",
    "HeunCoefficients[2, p_] := N[{{{2/3}}, {1/4, 3/4}, {2/3}}, p];\n",
    "\n",
    "NDSolve[{\n",
    "      y '[x] == -(Sin[x] Sqrt[y[x]]), y[Pi] == 0}, y, {x, Pi, (3 Pi)/2}, Method-> {\"FixedStep\", Method -> {\"ExplicitRungeKutta\", \"DifferenceOrder\" -> 2, \"Coefficients\" -> HeunCoefficients}}, StartingStepSize -> π/20, \n",
    "          MaxStepFraction -> 1/10, WorkingPrecision -> MachinePrecision]\n",
    "```"
   ]
  },
  {
   "cell_type": "markdown",
   "id": "07f3d9c2",
   "metadata": {},
   "source": [
    "### Proba poprawienia rozwiazania\n",
    "Jezeli jednak zalozymy $y(\\pi) = 0 + \\epsilon$ dla dowonie malego $\\epsilon > 0$ wykres ktory otrzymamy uzywajac ulepszonej metody Eulera bedzie przyblizeniem $y(x)$"
   ]
  },
  {
   "cell_type": "code",
   "execution_count": 6,
   "id": "6acab71d",
   "metadata": {
    "scrolled": true
   },
   "outputs": [
    {
     "data": {
      "text/plain": [
       "<matplotlib.legend.Legend at 0x7f3d15174d30>"
      ]
     },
     "execution_count": 6,
     "metadata": {},
     "output_type": "execute_result"
    },
    {
     "data": {
      "image/png": "[encoded data removed]",
      "text/plain": [
       "<Figure size 432x288 with 1 Axes>"
      ]
     },
     "metadata": {
      "needs_background": "light"
     },
     "output_type": "display_data"
    }
   ],
   "source": [
    "start = np.pi\n",
    "stop = (3.0 * np.pi)/2.0\n",
    "step = np.pi/20.0\n",
    "y_0 = 0.1e-6\n",
    "result = euler(f, start, stop, step, y_0)\n",
    "plt.scatter(np.arange(start,stop,step),result)\n",
    "plt.title('Wykres $y(x)$ przy $y_0=0 + \\epsilon$')\n",
    "plt.legend(['$y(x)$'])"
   ]
  },
  {
   "cell_type": "markdown",
   "id": "b5fed2d1",
   "metadata": {},
   "source": [
    "Otrzymany wykres zgadza sie wtedy z wykresem funkcji otrzymanej analitycznie wykreslonym przez __Wolfram Alpha__"
   ]
  },
  {
   "cell_type": "markdown",
   "id": "02a1fb0c",
   "metadata": {},
   "source": [
    "## Sprawdzenie poprawnosci implementacji\n",
    "Aby sprawdzic poprawnosc zaimplementowanej metody mozemy wykorzystac proste do rozwiazania rownanie \n",
    "\n",
    "$g(x) = \\frac{dy}{dx} = y$\n",
    "\n",
    "Ktorego rozwiazaniem jest oczywiscie funkcja $y(x) = e^x$\n",
    "\n",
    "przy wspolczynniku poczatkowym $y_0 = 1$ i dla $x \\in <0,4>$ i $h=0.25$\n",
    "\n",
    "implelemtujemy wiec:"
   ]
  },
  {
   "cell_type": "code",
   "execution_count": 7,
   "id": "ba3c9b3f",
   "metadata": {},
   "outputs": [],
   "source": [
    "def g(x,y):\n",
    "    return y"
   ]
  },
  {
   "cell_type": "markdown",
   "id": "d1a4667a",
   "metadata": {},
   "source": [
    "Co w c++ wygladalo by w nastepujacy sposob:\n",
    "```C++\n",
    "double g(double x, double y) { return y; }\n",
    "```"
   ]
  },
  {
   "cell_type": "code",
   "execution_count": 8,
   "id": "36ad72e5",
   "metadata": {},
   "outputs": [],
   "source": [
    "start = 0\n",
    "stop = 4\n",
    "step = 0.25\n",
    "y_0 = 1\n",
    "result = euler(g, start, stop, step, y_0)"
   ]
  },
  {
   "cell_type": "markdown",
   "id": "929b209c",
   "metadata": {},
   "source": [
    "Przygotujemy jednoczesnie tablice z wartosciami funkcji $e^x$ w badanych punktach $x$ "
   ]
  },
  {
   "cell_type": "code",
   "execution_count": 9,
   "id": "051c498f",
   "metadata": {},
   "outputs": [],
   "source": [
    "expected = [np.exp(x) for x in np.arange(start, stop, step)]"
   ]
  },
  {
   "cell_type": "markdown",
   "id": "f765015b",
   "metadata": {},
   "source": [
    "Mozemy nastepnie przedstawic obydwa zbiory na jednym wykresie w celu ich porownania"
   ]
  },
  {
   "cell_type": "code",
   "execution_count": 10,
   "id": "8f939381",
   "metadata": {},
   "outputs": [
    {
     "data": {
      "text/plain": [
       "<matplotlib.legend.Legend at 0x7f3d150f2fa0>"
      ]
     },
     "execution_count": 10,
     "metadata": {},
     "output_type": "execute_result"
    },
    {
     "data": {
      "image/png": "[encoded data removed]",
      "text/plain": [
       "<Figure size 432x288 with 1 Axes>"
      ]
     },
     "metadata": {
      "needs_background": "light"
     },
     "output_type": "display_data"
    }
   ],
   "source": [
    "plt.scatter(np.arange(start,stop,step),result)\n",
    "plt.scatter(np.arange(start,stop,step),expected)\n",
    "plt.xlabel('x')\n",
    "plt.ylabel('y')\n",
    "plt.title('Porownanie $y(x)$ i $e^x$')\n",
    "plt.legend(['$y(x)$', '$e^x$'])"
   ]
  },
  {
   "cell_type": "markdown",
   "id": "d7495940",
   "metadata": {},
   "source": [
    "Mozemy wiec rowniez przedstawic roznice pomiedzy rozwiazaniem analitycznym a numerycznym na wykresie:"
   ]
  },
  {
   "cell_type": "code",
   "execution_count": 11,
   "id": "0c03361b",
   "metadata": {},
   "outputs": [
    {
     "data": {
      "text/plain": [
       "<matplotlib.legend.Legend at 0x7f3d15041ac0>"
      ]
     },
     "execution_count": 11,
     "metadata": {},
     "output_type": "execute_result"
    },
    {
     "data": {
      "image/png": "[encoded data removed]",
      "text/plain": [
       "<Figure size 432x288 with 1 Axes>"
      ]
     },
     "metadata": {
      "needs_background": "light"
     },
     "output_type": "display_data"
    }
   ],
   "source": [
    "plt.plot([(np.abs(a-b)/b)*100 for a, b in zip(result, expected)])\n",
    "plt.title('Roznica pomiedzy $y(x)$ a $e^x$')\n",
    "plt.xlabel('Nr iteracji')\n",
    "plt.ylabel('Wzgledna roznica $\\%$')\n",
    "plt.legend(['$|y(x)-e^x|/e^x$'])"
   ]
  },
  {
   "cell_type": "markdown",
   "id": "ee4342a1-990a-4931-81b8-9783cf600b41",
   "metadata": {},
   "source": [
    "## Gotowy kod w c++\n",
    "\n",
    "```c++\n",
    "#include <cmath>\n",
    "#include <vector>\n",
    "\n",
    "std::vector<double> \n",
    "euler(double (*f)(double, double), double start,\n",
    "                                 double stop, double h, double y_0) {\n",
    "    std::vector<double> results;\n",
    "\n",
    "    // Ustawiamy poczatkowy numer iteracji na 0\n",
    "    int n = 0;\n",
    "    \n",
    "    // Poczatkowa wartosc y_n to po prostu wartosc stala podana\n",
    "    double y_n = y_0;\n",
    "\n",
    "    // Przechodzimy po calym zadanym zakresie z podanym krokiem\n",
    "    for (double x = start; x <= stop; x += h) {\n",
    "        \n",
    "        // Liczymy zmmiane y w punkcie x_n, y_n\n",
    "        double f_n = f(x, y_n);\n",
    "        \n",
    "        // Liczymy zmmiane w kolejenym punkcie\n",
    "        double f_m = f(x + h, y_n + h * f_n);\n",
    "  \n",
    "        // Wartosc y(x_n) jest rowna w przyblizeniu\n",
    "        // poczatkowej wartosci nad ktora nadbudujemy kolejne \n",
    "        // zmiany dy/dx otrzymujac wartosci y_n. Ulepszenie nad \n",
    "        // Metoda Eulera polaga na dodawaniu sredniej pomiedzy kolejnymi punktami\n",
    "        y_n = y_n + (h / 2.0) * (f_n + f_m);\n",
    "  \n",
    "        std::cout << n << \",\" << x << \",\" << y_n << std::endl;\n",
    "        \n",
    "        results.push_back(y_n);\n",
    "        n++;\n",
    "    }\n",
    "    \n",
    "    // Zwracamy otrzymane wartosci y_n dla podanych x_n\n",
    "    return results;\n",
    "}\n",
    "\n",
    "double f(double x, double y) { return -sin(x) * sqrt(y); }\n",
    "\n",
    "double g(double x, double y) { return y; }\n",
    "\n",
    "const double pi = 3.1415926;\n",
    "\n",
    "int main(int argc, const char** argv){\n",
    "    \n",
    "    // Badanie zad14 z y_0 = 0;\n",
    "    std::cout << \"Zad14 z y_0=0\" << std::endl;\n",
    "    std::cout << \"n,\\tx,\\ty\" << std::endl;\n",
    "    double start = pi;\n",
    "    double stop = (3.0 * pi)/2.0;\n",
    "    double step = pi/20.0;\n",
    "    double y_0 = 0.0;\n",
    "    auto result = euler(f, start, stop, step, y_0);\n",
    "    \n",
    "    // Badanie zad14 z y_0 = 0 + \\epsilon\n",
    "    std::cout << \"Zad14 z y_0=0 + epsilon\" << std::endl;\n",
    "    std::cout << \"n,\\tx,\\ty\" << std::endl;\n",
    "    start = pi;\n",
    "    stop = (3.0 * pi)/2.0;\n",
    "    step = pi/20.0;\n",
    "    y_0 = 0.1e-6;\n",
    "    result = euler(f, start, stop, step, y_0);\n",
    "    \n",
    "    // Badanie funkcji wykladniczej\n",
    "    std::cout << \"Wykladnicza\" << std::endl;\n",
    "    std::cout << \"n,\\tx,\\ty\" << std::endl;\n",
    "    start = 0;\n",
    "    stop = 4;\n",
    "    step = 0.25;\n",
    "    y_0 = 1;\n",
    "    result = euler(g, start, stop, step, y_0);\n",
    "}\n",
    "\n",
    "```"
   ]
  }
 ],
 "metadata": {
  "kernelspec": {
   "display_name": "Python 3",
   "language": "python",
   "name": "python3"
  },
  "language_info": {
   "codemirror_mode": {
    "name": "ipython",
    "version": 3
   },
   "file_extension": ".py",
   "mimetype": "text/x-python",
   "name": "python",
   "nbconvert_exporter": "python",
   "pygments_lexer": "ipython3",
   "version": "3.9.6"
  }
 },
 "nbformat": 4,
 "nbformat_minor": 5
}
